{
 "cells": [
  {
   "cell_type": "code",
   "execution_count": null,
   "id": "8ac8169a-4e13-448c-9930-4302a242ba17",
   "metadata": {},
   "outputs": [],
   "source": [
    "import matplotlib.pyplot as plt\n",
    "import pandas as pd"
   ]
  },
  {
   "cell_type": "code",
   "execution_count": null,
   "id": "f19d0316-7ff1-48a6-bcda-43a5b0db76a7",
   "metadata": {},
   "outputs": [],
   "source": [
    "df = pd.read_parquet(\"data/monthly_averages.parquet\")"
   ]
  },
  {
   "cell_type": "code",
   "execution_count": null,
   "id": "a7b98d26-2778-465c-8f49-7c05a88dcaa0",
   "metadata": {},
   "outputs": [],
   "source": [
    "fig, time_ax = plt.subplots(figsize=(5, 3), dpi=150)\n",
    "\n",
    "color = 'tab:blue'\n",
    "time_ax.set_ylabel(\"avg. monthly trip duration / minutes\", color=color)\n",
    "\n",
    "(df[\"trip_duration_mean\"] / 60).plot(\n",
    "       ax=time_ax, color=color, label=\"trip duration\"\n",
    ")\n",
    "time_ax.tick_params(axis='y', labelcolor=color)\n",
    "\n",
    "\n",
    "dist_ax = time_ax.twinx()  # instantiate a second axes that shares the same x-axis\n",
    "color = 'tab:red'\n",
    "dist_ax.set_ylabel(\"avg. monthly trip distance\", color=color)\n",
    "df[\"trip_distance_mean\"].plot(ax=dist_ax, color=color, label=\"trip distance\")\n",
    "dist_ax.tick_params(axis='y', labelcolor=color)\n",
    "\n",
    "time_ax.set_xlabel(\"year\")\n",
    "plt.title(\"Average monthly trip durations and distances\")\n",
    "fig.set_layout_engine(\"constrained\")\n",
    "plt.savefig(\"trip_lenghts_monthly_averages.png\")"
   ]
  }
 ],
 "metadata": {
  "kernelspec": {
   "display_name": "Python 3 (ipykernel)",
   "language": "python",
   "name": "python3"
  },
  "language_info": {
   "codemirror_mode": {
    "name": "ipython",
    "version": 3
   },
   "file_extension": ".py",
   "mimetype": "text/x-python",
   "name": "python",
   "nbconvert_exporter": "python",
   "pygments_lexer": "ipython3",
   "version": "3.11.6"
  }
 },
 "nbformat": 4,
 "nbformat_minor": 5
}
