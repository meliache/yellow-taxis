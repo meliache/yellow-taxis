{
 "cells": [
  {
   "cell_type": "code",
   "execution_count": null,
   "id": "8ac8169a-4e13-448c-9930-4302a242ba17",
   "metadata": {},
   "outputs": [],
   "source": [
    "import matplotlib.pyplot as plt\n",
    "import numpy as np\n",
    "import pandas as pd\n",
    "from yellow_taxis.fetch import most_recent_dataset_date\n",
    "from yellow_taxis.tasks.monthly_averages import AggregateMonthlyAveragesTask\n",
    "from yellow_taxis.tasks.rolling_averages import (\n",
    "    AggregateRollingAveragesTask,\n",
    "    RollingAveragesTask,\n",
    ")\n",
    "\n",
    "%load_ext autoreload\n",
    "%autoreload 2"
   ]
  },
  {
   "cell_type": "markdown",
   "id": "70966cb6-f5e2-4177-85a8-d3600e018368",
   "metadata": {},
   "source": [
    "## Visualize output of monthly averages"
   ]
  },
  {
   "cell_type": "code",
   "execution_count": null,
   "id": "f19d0316-7ff1-48a6-bcda-43a5b0db76a7",
   "metadata": {},
   "outputs": [],
   "source": [
    "monthly_df = pd.read_parquet(AggregateMonthlyAveragesTask().get_output_path())\n",
    "monthly_df.head()"
   ]
  },
  {
   "cell_type": "code",
   "execution_count": null,
   "id": "94a2caf5-a99f-4669-8033-43d53701ab8b",
   "metadata": {},
   "outputs": [],
   "source": [
    "def plot_trip_lenghs(durations: pd.Series, distances: pd.Series):\n",
    "    fig, time_ax = plt.subplots(figsize=np.array([5, 3])*1.5, dpi=200)\n",
    "\n",
    "    color = 'tab:blue'\n",
    "    time_ax.set_ylabel(\"trip duration / minutes\", color=color)\n",
    "    (durations / 60).plot(\n",
    "           ax=time_ax, color=color, label=\"trip duration\"\n",
    "    )\n",
    "    time_ax.tick_params(axis='y', labelcolor=color)\n",
    "    dist_ax = time_ax.twinx()  # instantiate a second axes that shares the same x-axis\n",
    "    color = 'tab:red'\n",
    "    dist_ax.set_ylabel(\"trip distance / Miles\", color=color)\n",
    "    distances.plot(ax=dist_ax, color=color, label=\"trip distance\")\n",
    "    dist_ax.tick_params(axis='y', labelcolor=color)\n",
    "    time_ax.set_xlabel(\"year\")\n",
    "    fig.set_layout_engine(\"constrained\")\n",
    "    return fig, time_ax, dist_ax"
   ]
  },
  {
   "cell_type": "code",
   "execution_count": null,
   "id": "7e1b6bac-700e-478d-8322-b917b779ddcd",
   "metadata": {},
   "outputs": [],
   "source": [
    "plot_trip_lenghs(monthly_df[\"trip_duration_mean\"], monthly_df[\"trip_distance_mean\"])\n",
    "plt.title(\"Average monthly trip durations and distances\")\n",
    "plt.savefig(\"trip_lenghts_monthly_averages.webp\")"
   ]
  },
  {
   "cell_type": "markdown",
   "id": "ae32e428-2cb9-4291-9226-a5445439bc9c",
   "metadata": {},
   "source": [
    "## Visualize output of rolling averages"
   ]
  },
  {
   "cell_type": "code",
   "execution_count": null,
   "id": "3df166be-0480-4fd4-b4b8-67c4e2df1b5f",
   "metadata": {},
   "outputs": [],
   "source": [
    "rolling_df = pd.read_parquet(AggregateRollingAveragesTask().get_output_path())"
   ]
  },
  {
   "cell_type": "code",
   "execution_count": null,
   "id": "c4498d13-54d1-4913-be15-e7369812b61a",
   "metadata": {},
   "outputs": [],
   "source": [
    "plot_trip_lenghs(rolling_df[\"trip_duration\"], rolling_df[\"trip_distance\"])\n",
    "plt.title(\"45 day rolling trip durations and distances\")\n",
    "plt.savefig(\"trip_lenghts_rolling_averages.webp\")"
   ]
  },
  {
   "cell_type": "markdown",
   "id": "9f756d5b-b276-4af3-945b-56a234656fca",
   "metadata": {},
   "source": [
    "### Just most recent month"
   ]
  },
  {
   "cell_type": "code",
   "execution_count": null,
   "id": "910c44a7-22eb-4ea5-bd37-5a2b3c2fdb7d",
   "metadata": {},
   "outputs": [],
   "source": [
    "most_recent_date = most_recent_dataset_date()\n",
    "most_recent_rolling_avg_task = RollingAveragesTask(\n",
    "    year=most_recent_date.year, month=most_recent_date.month\n",
    ")\n",
    "last_month_rolling_df = pd.read_parquet(\n",
    "    most_recent_rolling_avg_task.get_output_path()\n",
    ")"
   ]
  },
  {
   "cell_type": "code",
   "execution_count": null,
   "id": "f0ade7b4-8cdc-42e5-8426-c44e7136594f",
   "metadata": {},
   "outputs": [],
   "source": [
    "plot_trip_lenghs(\n",
    "    last_month_rolling_df[\"trip_duration\"],\n",
    "    last_month_rolling_df[\"trip_distance\"]\n",
    ")\n",
    "plt.title(\"45 day rolling trip durations and distances\\n(most recent month)\")\n",
    "plt.savefig(\"trip_lenghts_rolling_averages_last_month.webp\")"
   ]
  }
 ],
 "metadata": {
  "kernelspec": {
   "display_name": "Python 3 (ipykernel)",
   "language": "python",
   "name": "python3"
  },
  "language_info": {
   "codemirror_mode": {
    "name": "ipython",
    "version": 3
   },
   "file_extension": ".py",
   "mimetype": "text/x-python",
   "name": "python",
   "nbconvert_exporter": "python",
   "pygments_lexer": "ipython3",
   "version": "3.11.6"
  }
 },
 "nbformat": 4,
 "nbformat_minor": 5
}
